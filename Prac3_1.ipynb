{
  "nbformat": 4,
  "nbformat_minor": 0,
  "metadata": {
    "colab": {
      "provenance": [],
      "authorship_tag": "ABX9TyNoZ8hQirYg4yydzN+yJD4B",
      "include_colab_link": true
    },
    "kernelspec": {
      "name": "python3",
      "display_name": "Python 3"
    },
    "language_info": {
      "name": "python"
    }
  },
  "cells": [
    {
      "cell_type": "markdown",
      "metadata": {
        "id": "view-in-github",
        "colab_type": "text"
      },
      "source": [
        "<a href=\"https://colab.research.google.com/github/PankajAgarwalS/TE-COMP-SEM-6/blob/main/Prac3_1.ipynb\" target=\"_parent\"><img src=\"https://colab.research.google.com/assets/colab-badge.svg\" alt=\"Open In Colab\"/></a>"
      ]
    },
    {
      "cell_type": "code",
      "execution_count": 2,
      "metadata": {
        "id": "00HL89Scvzwl"
      },
      "outputs": [],
      "source": [
        "import pandas as pd\n",
        "import numpy as np\n",
        "import seaborn as sns\n",
        "from seaborn.utils import get_dataset_names\n",
        "df=sns.load_dataset('tips')"
      ]
    },
    {
      "cell_type": "markdown",
      "source": [
        "### General Information of Dataset"
      ],
      "metadata": {
        "id": "r_66PJQd3Tnu"
      }
    },
    {
      "cell_type": "code",
      "source": [
        "print(\"Shape of the DataFrame:\")\n",
        "print(df.shape)"
      ],
      "metadata": {
        "colab": {
          "base_uri": "https://localhost:8080/"
        },
        "id": "sS70XbGMxDSi",
        "outputId": "c527b94a-b520-4454-fc2f-e9c039481e8d"
      },
      "execution_count": 3,
      "outputs": [
        {
          "output_type": "stream",
          "name": "stdout",
          "text": [
            "Shape of the DataFrame:\n",
            "(244, 7)\n"
          ]
        }
      ]
    },
    {
      "cell_type": "code",
      "source": [
        "df.sample(5)"
      ],
      "metadata": {
        "colab": {
          "base_uri": "https://localhost:8080/",
          "height": 206
        },
        "id": "rP0J4tR4xDZF",
        "outputId": "826510fc-a602-422d-82e3-826b84532e15"
      },
      "execution_count": 4,
      "outputs": [
        {
          "output_type": "execute_result",
          "data": {
            "text/plain": [
              "     total_bill   tip     sex smoker   day    time  size\n",
              "106       20.49  4.06    Male    Yes   Sat  Dinner     2\n",
              "191       19.81  4.19  Female    Yes  Thur   Lunch     2\n",
              "75        10.51  1.25    Male     No   Sat  Dinner     2\n",
              "173       31.85  3.18    Male    Yes   Sun  Dinner     2\n",
              "109       14.31  4.00  Female    Yes   Sat  Dinner     2"
            ],
            "text/html": [
              "\n",
              "  <div id=\"df-907f7d70-a94b-4968-8852-74a78a2163f1\" class=\"colab-df-container\">\n",
              "    <div>\n",
              "<style scoped>\n",
              "    .dataframe tbody tr th:only-of-type {\n",
              "        vertical-align: middle;\n",
              "    }\n",
              "\n",
              "    .dataframe tbody tr th {\n",
              "        vertical-align: top;\n",
              "    }\n",
              "\n",
              "    .dataframe thead th {\n",
              "        text-align: right;\n",
              "    }\n",
              "</style>\n",
              "<table border=\"1\" class=\"dataframe\">\n",
              "  <thead>\n",
              "    <tr style=\"text-align: right;\">\n",
              "      <th></th>\n",
              "      <th>total_bill</th>\n",
              "      <th>tip</th>\n",
              "      <th>sex</th>\n",
              "      <th>smoker</th>\n",
              "      <th>day</th>\n",
              "      <th>time</th>\n",
              "      <th>size</th>\n",
              "    </tr>\n",
              "  </thead>\n",
              "  <tbody>\n",
              "    <tr>\n",
              "      <th>106</th>\n",
              "      <td>20.49</td>\n",
              "      <td>4.06</td>\n",
              "      <td>Male</td>\n",
              "      <td>Yes</td>\n",
              "      <td>Sat</td>\n",
              "      <td>Dinner</td>\n",
              "      <td>2</td>\n",
              "    </tr>\n",
              "    <tr>\n",
              "      <th>191</th>\n",
              "      <td>19.81</td>\n",
              "      <td>4.19</td>\n",
              "      <td>Female</td>\n",
              "      <td>Yes</td>\n",
              "      <td>Thur</td>\n",
              "      <td>Lunch</td>\n",
              "      <td>2</td>\n",
              "    </tr>\n",
              "    <tr>\n",
              "      <th>75</th>\n",
              "      <td>10.51</td>\n",
              "      <td>1.25</td>\n",
              "      <td>Male</td>\n",
              "      <td>No</td>\n",
              "      <td>Sat</td>\n",
              "      <td>Dinner</td>\n",
              "      <td>2</td>\n",
              "    </tr>\n",
              "    <tr>\n",
              "      <th>173</th>\n",
              "      <td>31.85</td>\n",
              "      <td>3.18</td>\n",
              "      <td>Male</td>\n",
              "      <td>Yes</td>\n",
              "      <td>Sun</td>\n",
              "      <td>Dinner</td>\n",
              "      <td>2</td>\n",
              "    </tr>\n",
              "    <tr>\n",
              "      <th>109</th>\n",
              "      <td>14.31</td>\n",
              "      <td>4.00</td>\n",
              "      <td>Female</td>\n",
              "      <td>Yes</td>\n",
              "      <td>Sat</td>\n",
              "      <td>Dinner</td>\n",
              "      <td>2</td>\n",
              "    </tr>\n",
              "  </tbody>\n",
              "</table>\n",
              "</div>\n",
              "    <div class=\"colab-df-buttons\">\n",
              "\n",
              "  <div class=\"colab-df-container\">\n",
              "    <button class=\"colab-df-convert\" onclick=\"convertToInteractive('df-907f7d70-a94b-4968-8852-74a78a2163f1')\"\n",
              "            title=\"Convert this dataframe to an interactive table.\"\n",
              "            style=\"display:none;\">\n",
              "\n",
              "  <svg xmlns=\"http://www.w3.org/2000/svg\" height=\"24px\" viewBox=\"0 -960 960 960\">\n",
              "    <path d=\"M120-120v-720h720v720H120Zm60-500h600v-160H180v160Zm220 220h160v-160H400v160Zm0 220h160v-160H400v160ZM180-400h160v-160H180v160Zm440 0h160v-160H620v160ZM180-180h160v-160H180v160Zm440 0h160v-160H620v160Z\"/>\n",
              "  </svg>\n",
              "    </button>\n",
              "\n",
              "  <style>\n",
              "    .colab-df-container {\n",
              "      display:flex;\n",
              "      gap: 12px;\n",
              "    }\n",
              "\n",
              "    .colab-df-convert {\n",
              "      background-color: #E8F0FE;\n",
              "      border: none;\n",
              "      border-radius: 50%;\n",
              "      cursor: pointer;\n",
              "      display: none;\n",
              "      fill: #1967D2;\n",
              "      height: 32px;\n",
              "      padding: 0 0 0 0;\n",
              "      width: 32px;\n",
              "    }\n",
              "\n",
              "    .colab-df-convert:hover {\n",
              "      background-color: #E2EBFA;\n",
              "      box-shadow: 0px 1px 2px rgba(60, 64, 67, 0.3), 0px 1px 3px 1px rgba(60, 64, 67, 0.15);\n",
              "      fill: #174EA6;\n",
              "    }\n",
              "\n",
              "    .colab-df-buttons div {\n",
              "      margin-bottom: 4px;\n",
              "    }\n",
              "\n",
              "    [theme=dark] .colab-df-convert {\n",
              "      background-color: #3B4455;\n",
              "      fill: #D2E3FC;\n",
              "    }\n",
              "\n",
              "    [theme=dark] .colab-df-convert:hover {\n",
              "      background-color: #434B5C;\n",
              "      box-shadow: 0px 1px 3px 1px rgba(0, 0, 0, 0.15);\n",
              "      filter: drop-shadow(0px 1px 2px rgba(0, 0, 0, 0.3));\n",
              "      fill: #FFFFFF;\n",
              "    }\n",
              "  </style>\n",
              "\n",
              "    <script>\n",
              "      const buttonEl =\n",
              "        document.querySelector('#df-907f7d70-a94b-4968-8852-74a78a2163f1 button.colab-df-convert');\n",
              "      buttonEl.style.display =\n",
              "        google.colab.kernel.accessAllowed ? 'block' : 'none';\n",
              "\n",
              "      async function convertToInteractive(key) {\n",
              "        const element = document.querySelector('#df-907f7d70-a94b-4968-8852-74a78a2163f1');\n",
              "        const dataTable =\n",
              "          await google.colab.kernel.invokeFunction('convertToInteractive',\n",
              "                                                    [key], {});\n",
              "        if (!dataTable) return;\n",
              "\n",
              "        const docLinkHtml = 'Like what you see? Visit the ' +\n",
              "          '<a target=\"_blank\" href=https://colab.research.google.com/notebooks/data_table.ipynb>data table notebook</a>'\n",
              "          + ' to learn more about interactive tables.';\n",
              "        element.innerHTML = '';\n",
              "        dataTable['output_type'] = 'display_data';\n",
              "        await google.colab.output.renderOutput(dataTable, element);\n",
              "        const docLink = document.createElement('div');\n",
              "        docLink.innerHTML = docLinkHtml;\n",
              "        element.appendChild(docLink);\n",
              "      }\n",
              "    </script>\n",
              "  </div>\n",
              "\n",
              "\n",
              "<div id=\"df-4c7a3bab-eba3-4514-8a39-3351588b3ded\">\n",
              "  <button class=\"colab-df-quickchart\" onclick=\"quickchart('df-4c7a3bab-eba3-4514-8a39-3351588b3ded')\"\n",
              "            title=\"Suggest charts\"\n",
              "            style=\"display:none;\">\n",
              "\n",
              "<svg xmlns=\"http://www.w3.org/2000/svg\" height=\"24px\"viewBox=\"0 0 24 24\"\n",
              "     width=\"24px\">\n",
              "    <g>\n",
              "        <path d=\"M19 3H5c-1.1 0-2 .9-2 2v14c0 1.1.9 2 2 2h14c1.1 0 2-.9 2-2V5c0-1.1-.9-2-2-2zM9 17H7v-7h2v7zm4 0h-2V7h2v10zm4 0h-2v-4h2v4z\"/>\n",
              "    </g>\n",
              "</svg>\n",
              "  </button>\n",
              "\n",
              "<style>\n",
              "  .colab-df-quickchart {\n",
              "      --bg-color: #E8F0FE;\n",
              "      --fill-color: #1967D2;\n",
              "      --hover-bg-color: #E2EBFA;\n",
              "      --hover-fill-color: #174EA6;\n",
              "      --disabled-fill-color: #AAA;\n",
              "      --disabled-bg-color: #DDD;\n",
              "  }\n",
              "\n",
              "  [theme=dark] .colab-df-quickchart {\n",
              "      --bg-color: #3B4455;\n",
              "      --fill-color: #D2E3FC;\n",
              "      --hover-bg-color: #434B5C;\n",
              "      --hover-fill-color: #FFFFFF;\n",
              "      --disabled-bg-color: #3B4455;\n",
              "      --disabled-fill-color: #666;\n",
              "  }\n",
              "\n",
              "  .colab-df-quickchart {\n",
              "    background-color: var(--bg-color);\n",
              "    border: none;\n",
              "    border-radius: 50%;\n",
              "    cursor: pointer;\n",
              "    display: none;\n",
              "    fill: var(--fill-color);\n",
              "    height: 32px;\n",
              "    padding: 0;\n",
              "    width: 32px;\n",
              "  }\n",
              "\n",
              "  .colab-df-quickchart:hover {\n",
              "    background-color: var(--hover-bg-color);\n",
              "    box-shadow: 0 1px 2px rgba(60, 64, 67, 0.3), 0 1px 3px 1px rgba(60, 64, 67, 0.15);\n",
              "    fill: var(--button-hover-fill-color);\n",
              "  }\n",
              "\n",
              "  .colab-df-quickchart-complete:disabled,\n",
              "  .colab-df-quickchart-complete:disabled:hover {\n",
              "    background-color: var(--disabled-bg-color);\n",
              "    fill: var(--disabled-fill-color);\n",
              "    box-shadow: none;\n",
              "  }\n",
              "\n",
              "  .colab-df-spinner {\n",
              "    border: 2px solid var(--fill-color);\n",
              "    border-color: transparent;\n",
              "    border-bottom-color: var(--fill-color);\n",
              "    animation:\n",
              "      spin 1s steps(1) infinite;\n",
              "  }\n",
              "\n",
              "  @keyframes spin {\n",
              "    0% {\n",
              "      border-color: transparent;\n",
              "      border-bottom-color: var(--fill-color);\n",
              "      border-left-color: var(--fill-color);\n",
              "    }\n",
              "    20% {\n",
              "      border-color: transparent;\n",
              "      border-left-color: var(--fill-color);\n",
              "      border-top-color: var(--fill-color);\n",
              "    }\n",
              "    30% {\n",
              "      border-color: transparent;\n",
              "      border-left-color: var(--fill-color);\n",
              "      border-top-color: var(--fill-color);\n",
              "      border-right-color: var(--fill-color);\n",
              "    }\n",
              "    40% {\n",
              "      border-color: transparent;\n",
              "      border-right-color: var(--fill-color);\n",
              "      border-top-color: var(--fill-color);\n",
              "    }\n",
              "    60% {\n",
              "      border-color: transparent;\n",
              "      border-right-color: var(--fill-color);\n",
              "    }\n",
              "    80% {\n",
              "      border-color: transparent;\n",
              "      border-right-color: var(--fill-color);\n",
              "      border-bottom-color: var(--fill-color);\n",
              "    }\n",
              "    90% {\n",
              "      border-color: transparent;\n",
              "      border-bottom-color: var(--fill-color);\n",
              "    }\n",
              "  }\n",
              "</style>\n",
              "\n",
              "  <script>\n",
              "    async function quickchart(key) {\n",
              "      const quickchartButtonEl =\n",
              "        document.querySelector('#' + key + ' button');\n",
              "      quickchartButtonEl.disabled = true;  // To prevent multiple clicks.\n",
              "      quickchartButtonEl.classList.add('colab-df-spinner');\n",
              "      try {\n",
              "        const charts = await google.colab.kernel.invokeFunction(\n",
              "            'suggestCharts', [key], {});\n",
              "      } catch (error) {\n",
              "        console.error('Error during call to suggestCharts:', error);\n",
              "      }\n",
              "      quickchartButtonEl.classList.remove('colab-df-spinner');\n",
              "      quickchartButtonEl.classList.add('colab-df-quickchart-complete');\n",
              "    }\n",
              "    (() => {\n",
              "      let quickchartButtonEl =\n",
              "        document.querySelector('#df-4c7a3bab-eba3-4514-8a39-3351588b3ded button');\n",
              "      quickchartButtonEl.style.display =\n",
              "        google.colab.kernel.accessAllowed ? 'block' : 'none';\n",
              "    })();\n",
              "  </script>\n",
              "</div>\n",
              "\n",
              "    </div>\n",
              "  </div>\n"
            ],
            "application/vnd.google.colaboratory.intrinsic+json": {
              "type": "dataframe",
              "summary": "{\n  \"name\": \"df\",\n  \"rows\": 5,\n  \"fields\": [\n    {\n      \"column\": \"total_bill\",\n      \"properties\": {\n        \"dtype\": \"number\",\n        \"std\": 8.08236846475091,\n        \"min\": 10.51,\n        \"max\": 31.85,\n        \"samples\": [\n          19.81,\n          14.31,\n          10.51\n        ],\n        \"num_unique_values\": 5,\n        \"semantic_type\": \"\",\n        \"description\": \"\"\n      }\n    },\n    {\n      \"column\": \"tip\",\n      \"properties\": {\n        \"dtype\": \"number\",\n        \"std\": 1.2318806760396885,\n        \"min\": 1.25,\n        \"max\": 4.19,\n        \"samples\": [\n          4.19,\n          4.0,\n          1.25\n        ],\n        \"num_unique_values\": 5,\n        \"semantic_type\": \"\",\n        \"description\": \"\"\n      }\n    },\n    {\n      \"column\": \"sex\",\n      \"properties\": {\n        \"dtype\": \"category\",\n        \"samples\": [\n          \"Female\",\n          \"Male\"\n        ],\n        \"num_unique_values\": 2,\n        \"semantic_type\": \"\",\n        \"description\": \"\"\n      }\n    },\n    {\n      \"column\": \"smoker\",\n      \"properties\": {\n        \"dtype\": \"category\",\n        \"samples\": [\n          \"No\",\n          \"Yes\"\n        ],\n        \"num_unique_values\": 2,\n        \"semantic_type\": \"\",\n        \"description\": \"\"\n      }\n    },\n    {\n      \"column\": \"day\",\n      \"properties\": {\n        \"dtype\": \"category\",\n        \"samples\": [\n          \"Sat\",\n          \"Thur\"\n        ],\n        \"num_unique_values\": 3,\n        \"semantic_type\": \"\",\n        \"description\": \"\"\n      }\n    },\n    {\n      \"column\": \"time\",\n      \"properties\": {\n        \"dtype\": \"category\",\n        \"samples\": [\n          \"Lunch\",\n          \"Dinner\"\n        ],\n        \"num_unique_values\": 2,\n        \"semantic_type\": \"\",\n        \"description\": \"\"\n      }\n    },\n    {\n      \"column\": \"size\",\n      \"properties\": {\n        \"dtype\": \"number\",\n        \"std\": 0,\n        \"min\": 2,\n        \"max\": 2,\n        \"samples\": [\n          2\n        ],\n        \"num_unique_values\": 1,\n        \"semantic_type\": \"\",\n        \"description\": \"\"\n      }\n    }\n  ]\n}"
            }
          },
          "metadata": {},
          "execution_count": 4
        }
      ]
    },
    {
      "cell_type": "code",
      "source": [
        "df.info()"
      ],
      "metadata": {
        "colab": {
          "base_uri": "https://localhost:8080/"
        },
        "id": "n-pLYNm0xDcb",
        "outputId": "711d9400-c601-48e3-ee9f-ba8807f99c0a"
      },
      "execution_count": 5,
      "outputs": [
        {
          "output_type": "stream",
          "name": "stdout",
          "text": [
            "<class 'pandas.core.frame.DataFrame'>\n",
            "RangeIndex: 244 entries, 0 to 243\n",
            "Data columns (total 7 columns):\n",
            " #   Column      Non-Null Count  Dtype   \n",
            "---  ------      --------------  -----   \n",
            " 0   total_bill  244 non-null    float64 \n",
            " 1   tip         244 non-null    float64 \n",
            " 2   sex         244 non-null    category\n",
            " 3   smoker      244 non-null    category\n",
            " 4   day         244 non-null    category\n",
            " 5   time        244 non-null    category\n",
            " 6   size        244 non-null    int64   \n",
            "dtypes: category(4), float64(2), int64(1)\n",
            "memory usage: 7.4 KB\n"
          ]
        }
      ]
    },
    {
      "cell_type": "code",
      "source": [
        "df.describe()"
      ],
      "metadata": {
        "colab": {
          "base_uri": "https://localhost:8080/",
          "height": 300
        },
        "id": "6-wrH93pxDe7",
        "outputId": "f3588559-1c00-46f2-ab38-43013cbf6924"
      },
      "execution_count": 6,
      "outputs": [
        {
          "output_type": "execute_result",
          "data": {
            "text/plain": [
              "       total_bill         tip        size\n",
              "count  244.000000  244.000000  244.000000\n",
              "mean    19.785943    2.998279    2.569672\n",
              "std      8.902412    1.383638    0.951100\n",
              "min      3.070000    1.000000    1.000000\n",
              "25%     13.347500    2.000000    2.000000\n",
              "50%     17.795000    2.900000    2.000000\n",
              "75%     24.127500    3.562500    3.000000\n",
              "max     50.810000   10.000000    6.000000"
            ],
            "text/html": [
              "\n",
              "  <div id=\"df-d811db49-7934-4231-a491-2d388d408b06\" class=\"colab-df-container\">\n",
              "    <div>\n",
              "<style scoped>\n",
              "    .dataframe tbody tr th:only-of-type {\n",
              "        vertical-align: middle;\n",
              "    }\n",
              "\n",
              "    .dataframe tbody tr th {\n",
              "        vertical-align: top;\n",
              "    }\n",
              "\n",
              "    .dataframe thead th {\n",
              "        text-align: right;\n",
              "    }\n",
              "</style>\n",
              "<table border=\"1\" class=\"dataframe\">\n",
              "  <thead>\n",
              "    <tr style=\"text-align: right;\">\n",
              "      <th></th>\n",
              "      <th>total_bill</th>\n",
              "      <th>tip</th>\n",
              "      <th>size</th>\n",
              "    </tr>\n",
              "  </thead>\n",
              "  <tbody>\n",
              "    <tr>\n",
              "      <th>count</th>\n",
              "      <td>244.000000</td>\n",
              "      <td>244.000000</td>\n",
              "      <td>244.000000</td>\n",
              "    </tr>\n",
              "    <tr>\n",
              "      <th>mean</th>\n",
              "      <td>19.785943</td>\n",
              "      <td>2.998279</td>\n",
              "      <td>2.569672</td>\n",
              "    </tr>\n",
              "    <tr>\n",
              "      <th>std</th>\n",
              "      <td>8.902412</td>\n",
              "      <td>1.383638</td>\n",
              "      <td>0.951100</td>\n",
              "    </tr>\n",
              "    <tr>\n",
              "      <th>min</th>\n",
              "      <td>3.070000</td>\n",
              "      <td>1.000000</td>\n",
              "      <td>1.000000</td>\n",
              "    </tr>\n",
              "    <tr>\n",
              "      <th>25%</th>\n",
              "      <td>13.347500</td>\n",
              "      <td>2.000000</td>\n",
              "      <td>2.000000</td>\n",
              "    </tr>\n",
              "    <tr>\n",
              "      <th>50%</th>\n",
              "      <td>17.795000</td>\n",
              "      <td>2.900000</td>\n",
              "      <td>2.000000</td>\n",
              "    </tr>\n",
              "    <tr>\n",
              "      <th>75%</th>\n",
              "      <td>24.127500</td>\n",
              "      <td>3.562500</td>\n",
              "      <td>3.000000</td>\n",
              "    </tr>\n",
              "    <tr>\n",
              "      <th>max</th>\n",
              "      <td>50.810000</td>\n",
              "      <td>10.000000</td>\n",
              "      <td>6.000000</td>\n",
              "    </tr>\n",
              "  </tbody>\n",
              "</table>\n",
              "</div>\n",
              "    <div class=\"colab-df-buttons\">\n",
              "\n",
              "  <div class=\"colab-df-container\">\n",
              "    <button class=\"colab-df-convert\" onclick=\"convertToInteractive('df-d811db49-7934-4231-a491-2d388d408b06')\"\n",
              "            title=\"Convert this dataframe to an interactive table.\"\n",
              "            style=\"display:none;\">\n",
              "\n",
              "  <svg xmlns=\"http://www.w3.org/2000/svg\" height=\"24px\" viewBox=\"0 -960 960 960\">\n",
              "    <path d=\"M120-120v-720h720v720H120Zm60-500h600v-160H180v160Zm220 220h160v-160H400v160Zm0 220h160v-160H400v160ZM180-400h160v-160H180v160Zm440 0h160v-160H620v160ZM180-180h160v-160H180v160Zm440 0h160v-160H620v160Z\"/>\n",
              "  </svg>\n",
              "    </button>\n",
              "\n",
              "  <style>\n",
              "    .colab-df-container {\n",
              "      display:flex;\n",
              "      gap: 12px;\n",
              "    }\n",
              "\n",
              "    .colab-df-convert {\n",
              "      background-color: #E8F0FE;\n",
              "      border: none;\n",
              "      border-radius: 50%;\n",
              "      cursor: pointer;\n",
              "      display: none;\n",
              "      fill: #1967D2;\n",
              "      height: 32px;\n",
              "      padding: 0 0 0 0;\n",
              "      width: 32px;\n",
              "    }\n",
              "\n",
              "    .colab-df-convert:hover {\n",
              "      background-color: #E2EBFA;\n",
              "      box-shadow: 0px 1px 2px rgba(60, 64, 67, 0.3), 0px 1px 3px 1px rgba(60, 64, 67, 0.15);\n",
              "      fill: #174EA6;\n",
              "    }\n",
              "\n",
              "    .colab-df-buttons div {\n",
              "      margin-bottom: 4px;\n",
              "    }\n",
              "\n",
              "    [theme=dark] .colab-df-convert {\n",
              "      background-color: #3B4455;\n",
              "      fill: #D2E3FC;\n",
              "    }\n",
              "\n",
              "    [theme=dark] .colab-df-convert:hover {\n",
              "      background-color: #434B5C;\n",
              "      box-shadow: 0px 1px 3px 1px rgba(0, 0, 0, 0.15);\n",
              "      filter: drop-shadow(0px 1px 2px rgba(0, 0, 0, 0.3));\n",
              "      fill: #FFFFFF;\n",
              "    }\n",
              "  </style>\n",
              "\n",
              "    <script>\n",
              "      const buttonEl =\n",
              "        document.querySelector('#df-d811db49-7934-4231-a491-2d388d408b06 button.colab-df-convert');\n",
              "      buttonEl.style.display =\n",
              "        google.colab.kernel.accessAllowed ? 'block' : 'none';\n",
              "\n",
              "      async function convertToInteractive(key) {\n",
              "        const element = document.querySelector('#df-d811db49-7934-4231-a491-2d388d408b06');\n",
              "        const dataTable =\n",
              "          await google.colab.kernel.invokeFunction('convertToInteractive',\n",
              "                                                    [key], {});\n",
              "        if (!dataTable) return;\n",
              "\n",
              "        const docLinkHtml = 'Like what you see? Visit the ' +\n",
              "          '<a target=\"_blank\" href=https://colab.research.google.com/notebooks/data_table.ipynb>data table notebook</a>'\n",
              "          + ' to learn more about interactive tables.';\n",
              "        element.innerHTML = '';\n",
              "        dataTable['output_type'] = 'display_data';\n",
              "        await google.colab.output.renderOutput(dataTable, element);\n",
              "        const docLink = document.createElement('div');\n",
              "        docLink.innerHTML = docLinkHtml;\n",
              "        element.appendChild(docLink);\n",
              "      }\n",
              "    </script>\n",
              "  </div>\n",
              "\n",
              "\n",
              "<div id=\"df-555007e4-2961-4ef3-9588-9978cd886aaf\">\n",
              "  <button class=\"colab-df-quickchart\" onclick=\"quickchart('df-555007e4-2961-4ef3-9588-9978cd886aaf')\"\n",
              "            title=\"Suggest charts\"\n",
              "            style=\"display:none;\">\n",
              "\n",
              "<svg xmlns=\"http://www.w3.org/2000/svg\" height=\"24px\"viewBox=\"0 0 24 24\"\n",
              "     width=\"24px\">\n",
              "    <g>\n",
              "        <path d=\"M19 3H5c-1.1 0-2 .9-2 2v14c0 1.1.9 2 2 2h14c1.1 0 2-.9 2-2V5c0-1.1-.9-2-2-2zM9 17H7v-7h2v7zm4 0h-2V7h2v10zm4 0h-2v-4h2v4z\"/>\n",
              "    </g>\n",
              "</svg>\n",
              "  </button>\n",
              "\n",
              "<style>\n",
              "  .colab-df-quickchart {\n",
              "      --bg-color: #E8F0FE;\n",
              "      --fill-color: #1967D2;\n",
              "      --hover-bg-color: #E2EBFA;\n",
              "      --hover-fill-color: #174EA6;\n",
              "      --disabled-fill-color: #AAA;\n",
              "      --disabled-bg-color: #DDD;\n",
              "  }\n",
              "\n",
              "  [theme=dark] .colab-df-quickchart {\n",
              "      --bg-color: #3B4455;\n",
              "      --fill-color: #D2E3FC;\n",
              "      --hover-bg-color: #434B5C;\n",
              "      --hover-fill-color: #FFFFFF;\n",
              "      --disabled-bg-color: #3B4455;\n",
              "      --disabled-fill-color: #666;\n",
              "  }\n",
              "\n",
              "  .colab-df-quickchart {\n",
              "    background-color: var(--bg-color);\n",
              "    border: none;\n",
              "    border-radius: 50%;\n",
              "    cursor: pointer;\n",
              "    display: none;\n",
              "    fill: var(--fill-color);\n",
              "    height: 32px;\n",
              "    padding: 0;\n",
              "    width: 32px;\n",
              "  }\n",
              "\n",
              "  .colab-df-quickchart:hover {\n",
              "    background-color: var(--hover-bg-color);\n",
              "    box-shadow: 0 1px 2px rgba(60, 64, 67, 0.3), 0 1px 3px 1px rgba(60, 64, 67, 0.15);\n",
              "    fill: var(--button-hover-fill-color);\n",
              "  }\n",
              "\n",
              "  .colab-df-quickchart-complete:disabled,\n",
              "  .colab-df-quickchart-complete:disabled:hover {\n",
              "    background-color: var(--disabled-bg-color);\n",
              "    fill: var(--disabled-fill-color);\n",
              "    box-shadow: none;\n",
              "  }\n",
              "\n",
              "  .colab-df-spinner {\n",
              "    border: 2px solid var(--fill-color);\n",
              "    border-color: transparent;\n",
              "    border-bottom-color: var(--fill-color);\n",
              "    animation:\n",
              "      spin 1s steps(1) infinite;\n",
              "  }\n",
              "\n",
              "  @keyframes spin {\n",
              "    0% {\n",
              "      border-color: transparent;\n",
              "      border-bottom-color: var(--fill-color);\n",
              "      border-left-color: var(--fill-color);\n",
              "    }\n",
              "    20% {\n",
              "      border-color: transparent;\n",
              "      border-left-color: var(--fill-color);\n",
              "      border-top-color: var(--fill-color);\n",
              "    }\n",
              "    30% {\n",
              "      border-color: transparent;\n",
              "      border-left-color: var(--fill-color);\n",
              "      border-top-color: var(--fill-color);\n",
              "      border-right-color: var(--fill-color);\n",
              "    }\n",
              "    40% {\n",
              "      border-color: transparent;\n",
              "      border-right-color: var(--fill-color);\n",
              "      border-top-color: var(--fill-color);\n",
              "    }\n",
              "    60% {\n",
              "      border-color: transparent;\n",
              "      border-right-color: var(--fill-color);\n",
              "    }\n",
              "    80% {\n",
              "      border-color: transparent;\n",
              "      border-right-color: var(--fill-color);\n",
              "      border-bottom-color: var(--fill-color);\n",
              "    }\n",
              "    90% {\n",
              "      border-color: transparent;\n",
              "      border-bottom-color: var(--fill-color);\n",
              "    }\n",
              "  }\n",
              "</style>\n",
              "\n",
              "  <script>\n",
              "    async function quickchart(key) {\n",
              "      const quickchartButtonEl =\n",
              "        document.querySelector('#' + key + ' button');\n",
              "      quickchartButtonEl.disabled = true;  // To prevent multiple clicks.\n",
              "      quickchartButtonEl.classList.add('colab-df-spinner');\n",
              "      try {\n",
              "        const charts = await google.colab.kernel.invokeFunction(\n",
              "            'suggestCharts', [key], {});\n",
              "      } catch (error) {\n",
              "        console.error('Error during call to suggestCharts:', error);\n",
              "      }\n",
              "      quickchartButtonEl.classList.remove('colab-df-spinner');\n",
              "      quickchartButtonEl.classList.add('colab-df-quickchart-complete');\n",
              "    }\n",
              "    (() => {\n",
              "      let quickchartButtonEl =\n",
              "        document.querySelector('#df-555007e4-2961-4ef3-9588-9978cd886aaf button');\n",
              "      quickchartButtonEl.style.display =\n",
              "        google.colab.kernel.accessAllowed ? 'block' : 'none';\n",
              "    })();\n",
              "  </script>\n",
              "</div>\n",
              "\n",
              "    </div>\n",
              "  </div>\n"
            ],
            "application/vnd.google.colaboratory.intrinsic+json": {
              "type": "dataframe",
              "summary": "{\n  \"name\": \"df\",\n  \"rows\": 8,\n  \"fields\": [\n    {\n      \"column\": \"total_bill\",\n      \"properties\": {\n        \"dtype\": \"number\",\n        \"std\": 80.57800601480773,\n        \"min\": 3.07,\n        \"max\": 244.0,\n        \"samples\": [\n          19.78594262295082,\n          17.795,\n          244.0\n        ],\n        \"num_unique_values\": 8,\n        \"semantic_type\": \"\",\n        \"description\": \"\"\n      }\n    },\n    {\n      \"column\": \"tip\",\n      \"properties\": {\n        \"dtype\": \"number\",\n        \"std\": 85.10953159599222,\n        \"min\": 1.0,\n        \"max\": 244.0,\n        \"samples\": [\n          2.99827868852459,\n          2.9,\n          244.0\n        ],\n        \"num_unique_values\": 8,\n        \"semantic_type\": \"\",\n        \"description\": \"\"\n      }\n    },\n    {\n      \"column\": \"size\",\n      \"properties\": {\n        \"dtype\": \"number\",\n        \"std\": 85.39686221774683,\n        \"min\": 0.9510998047322344,\n        \"max\": 244.0,\n        \"samples\": [\n          244.0,\n          2.569672131147541,\n          3.0\n        ],\n        \"num_unique_values\": 7,\n        \"semantic_type\": \"\",\n        \"description\": \"\"\n      }\n    }\n  ]\n}"
            }
          },
          "metadata": {},
          "execution_count": 6
        }
      ]
    },
    {
      "cell_type": "code",
      "source": [
        "df.isnull().sum()"
      ],
      "metadata": {
        "colab": {
          "base_uri": "https://localhost:8080/"
        },
        "id": "0Y_0g3YMxDha",
        "outputId": "43a61d3e-e096-4795-a8bf-53d5af1b554b"
      },
      "execution_count": 7,
      "outputs": [
        {
          "output_type": "execute_result",
          "data": {
            "text/plain": [
              "total_bill    0\n",
              "tip           0\n",
              "sex           0\n",
              "smoker        0\n",
              "day           0\n",
              "time          0\n",
              "size          0\n",
              "dtype: int64"
            ]
          },
          "metadata": {},
          "execution_count": 7
        }
      ]
    },
    {
      "cell_type": "markdown",
      "source": [
        "### Descriptive Statistics"
      ],
      "metadata": {
        "id": "KuX9R1LU3dPf"
      }
    },
    {
      "cell_type": "code",
      "source": [
        "mean = df['total_bill'].mean()\n",
        "print(\"total bill Mean:\", mean)\n",
        "\n",
        "mean = df['tip'].mean()\n",
        "print(\"tip Mean:\", mean)\n",
        "\n",
        "mean = df['size'].mean()\n",
        "print(\"size Mean:\",mean)"
      ],
      "metadata": {
        "colab": {
          "base_uri": "https://localhost:8080/"
        },
        "id": "vQOhlm41yXzI",
        "outputId": "f8716be2-3dff-429a-b4b3-ff2d570538cc"
      },
      "execution_count": 8,
      "outputs": [
        {
          "output_type": "stream",
          "name": "stdout",
          "text": [
            "total bill Mean: 19.78594262295082\n",
            "tip Mean: 2.99827868852459\n",
            "size Mean: 2.569672131147541\n"
          ]
        }
      ]
    },
    {
      "cell_type": "code",
      "source": [
        "mode_sex = df['sex'].mode().values[0]\n",
        "print(\"Mode of 'sex' column:\", mode_sex)\n",
        "\n",
        "mode_smoker = df['smoker'].mode().values[0]\n",
        "print(\"Mode of 'smoker' column:\", mode_smoker)\n",
        "\n",
        "mode_day = df['day'].mode().values[0]\n",
        "print(\"Mode of 'day' column:\", mode_day)\n",
        "\n",
        "mode_time = df['time'].mode().values[0]\n",
        "print(\"Mode of 'time' column:\", mode_time)\n",
        "\n",
        "mode_tip = df['tip'].mode().values[0]\n",
        "print(\"Mode of 'tip' column:\", mode_tip)"
      ],
      "metadata": {
        "colab": {
          "base_uri": "https://localhost:8080/"
        },
        "id": "0Sxy7WGEyc8y",
        "outputId": "1627878b-e5b0-4c01-b689-a37bfab3602a"
      },
      "execution_count": 9,
      "outputs": [
        {
          "output_type": "stream",
          "name": "stdout",
          "text": [
            "Mode of 'sex' column: Male\n",
            "Mode of 'smoker' column: No\n",
            "Mode of 'day' column: Sat\n",
            "Mode of 'time' column: Dinner\n",
            "Mode of 'tip' column: 2.0\n"
          ]
        }
      ]
    },
    {
      "cell_type": "code",
      "source": [
        "median = df['total_bill'].median()\n",
        "print(\"total bill Mean:\", median)\n",
        "\n",
        "median = df['tip'].median()\n",
        "print(\"tip Mean:\", median)\n",
        "\n",
        "median = df['size'].median()\n",
        "print(\"size Mean:\",median)"
      ],
      "metadata": {
        "colab": {
          "base_uri": "https://localhost:8080/"
        },
        "id": "mFmcdXyWy5XH",
        "outputId": "4c592e10-9f92-45ba-96be-8e00549b48d8"
      },
      "execution_count": 10,
      "outputs": [
        {
          "output_type": "stream",
          "name": "stdout",
          "text": [
            "total bill Mean: 17.795\n",
            "tip Mean: 2.9\n",
            "size Mean: 2.0\n"
          ]
        }
      ]
    },
    {
      "cell_type": "code",
      "source": [
        "variance_total_bill = df['total_bill'].var()\n",
        "print(\"Variance total_bill:\", variance_total_bill)\n",
        "\n",
        "variance_tip = df['tip'].var()\n",
        "print(\"Variance tip:\", variance_tip)"
      ],
      "metadata": {
        "colab": {
          "base_uri": "https://localhost:8080/"
        },
        "id": "6UPO8d8CytEn",
        "outputId": "36d1ab65-586b-4b96-b6a3-30eb2646572f"
      },
      "execution_count": 11,
      "outputs": [
        {
          "output_type": "stream",
          "name": "stdout",
          "text": [
            "Variance total_bill: 79.25293861397827\n",
            "Variance tip: 1.914454638062471\n"
          ]
        }
      ]
    },
    {
      "cell_type": "code",
      "source": [
        "std_dev_total_bill = df['total_bill'].std()\n",
        "print(\"Standard Deviation of total_bill:\", std_dev_total_bill)\n",
        "\n",
        "std_dev_tip = df['tip'].std()\n",
        "print(\"Standard Deviation of tip:\", std_dev_tip)"
      ],
      "metadata": {
        "colab": {
          "base_uri": "https://localhost:8080/"
        },
        "id": "LXM2eD9cyzzf",
        "outputId": "9864f33a-d847-4860-b3f4-37134ce0592c"
      },
      "execution_count": 12,
      "outputs": [
        {
          "output_type": "stream",
          "name": "stdout",
          "text": [
            "Standard Deviation of total_bill: 8.902411954856856\n",
            "Standard Deviation of tip: 1.3836381890011822\n"
          ]
        }
      ]
    },
    {
      "cell_type": "code",
      "source": [
        "covariance = df['total_bill'].cov(df['tip'])\n",
        "print(\"Covariance:\", covariance)\n",
        "\n",
        "correlation = df['total_bill'].corr(df['tip'])\n",
        "print(\"Correlation:\", correlation)"
      ],
      "metadata": {
        "colab": {
          "base_uri": "https://localhost:8080/"
        },
        "id": "WVHGDEfOzHRf",
        "outputId": "6f64ce00-d26d-4cd3-c866-fe6831ec4776"
      },
      "execution_count": 13,
      "outputs": [
        {
          "output_type": "stream",
          "name": "stdout",
          "text": [
            "Covariance: 8.323501629224854\n",
            "Correlation: 0.6757341092113641\n"
          ]
        }
      ]
    },
    {
      "cell_type": "markdown",
      "source": [
        "### Descriptive Statistics by Group"
      ],
      "metadata": {
        "id": "7cHWRpCI3ihu"
      }
    },
    {
      "cell_type": "code",
      "source": [
        "grouped_df=df.groupby('smoker')"
      ],
      "metadata": {
        "id": "yOp-DL6D6ec5"
      },
      "execution_count": 14,
      "outputs": []
    },
    {
      "cell_type": "code",
      "source": [
        "mean = grouped_df.mean()\n",
        "print(mean)\n",
        "\n",
        "median = grouped_df.median()\n",
        "print(median)\n",
        "\n",
        "min = grouped_df.min()\n",
        "print(min)\n",
        "\n",
        "max = grouped_df.max()\n",
        "print(max)\n",
        "\n",
        "std = grouped_df.std()\n",
        "print(std)\n"
      ],
      "metadata": {
        "colab": {
          "base_uri": "https://localhost:8080/"
        },
        "id": "j2tDP7fE4re6",
        "outputId": "ad44e1fa-22f0-40d8-8511-ce948e57b8d1"
      },
      "execution_count": 15,
      "outputs": [
        {
          "output_type": "stream",
          "name": "stdout",
          "text": [
            "        total_bill       tip      size\n",
            "smoker                                \n",
            "Yes      20.756344  3.008710  2.408602\n",
            "No       19.188278  2.991854  2.668874\n",
            "        total_bill   tip  size\n",
            "smoker                        \n",
            "Yes          17.92  3.00   2.0\n",
            "No           17.59  2.74   2.0\n",
            "        total_bill  tip  size\n",
            "smoker                       \n",
            "Yes           3.07  1.0     1\n",
            "No            7.25  1.0     1\n",
            "        total_bill   tip  size\n",
            "smoker                        \n",
            "Yes          50.81  10.0     5\n",
            "No           48.33   9.0     6\n",
            "        total_bill       tip      size\n",
            "smoker                                \n",
            "Yes       9.832154  1.401468  0.810751\n",
            "No        8.255582  1.377190  1.017984\n"
          ]
        },
        {
          "output_type": "stream",
          "name": "stderr",
          "text": [
            "<ipython-input-15-bea1a1ba6982>:1: FutureWarning: The default value of numeric_only in DataFrameGroupBy.mean is deprecated. In a future version, numeric_only will default to False. Either specify numeric_only or select only columns which should be valid for the function.\n",
            "  mean = grouped_df.mean()\n",
            "<ipython-input-15-bea1a1ba6982>:4: FutureWarning: The default value of numeric_only in DataFrameGroupBy.median is deprecated. In a future version, numeric_only will default to False. Either specify numeric_only or select only columns which should be valid for the function.\n",
            "  median = grouped_df.median()\n",
            "<ipython-input-15-bea1a1ba6982>:7: FutureWarning: Dropping invalid columns in DataFrameGroupBy.min is deprecated. In a future version, a TypeError will be raised. Before calling .min, select only columns which should be valid for the function.\n",
            "  min = grouped_df.min()\n",
            "<ipython-input-15-bea1a1ba6982>:10: FutureWarning: Dropping invalid columns in DataFrameGroupBy.max is deprecated. In a future version, a TypeError will be raised. Before calling .max, select only columns which should be valid for the function.\n",
            "  max = grouped_df.max()\n",
            "<ipython-input-15-bea1a1ba6982>:13: FutureWarning: The default value of numeric_only in DataFrameGroupBy.std is deprecated. In a future version, numeric_only will default to False. Either specify numeric_only or select only columns which should be valid for the function.\n",
            "  std = grouped_df.std()\n"
          ]
        }
      ]
    },
    {
      "cell_type": "code",
      "source": [
        "grouped_df=df.groupby('day')\n",
        "\n",
        "mean = grouped_df.mean()\n",
        "print(mean)\n",
        "\n",
        "median = grouped_df.median()\n",
        "print(median)\n",
        "\n",
        "min = grouped_df.min()\n",
        "print(min)\n",
        "\n",
        "max = grouped_df.max()\n",
        "print(max)\n",
        "\n",
        "std = grouped_df.std()\n",
        "print(std)"
      ],
      "metadata": {
        "colab": {
          "base_uri": "https://localhost:8080/"
        },
        "id": "tD1scJAa41TY",
        "outputId": "ffc32281-f9c2-4dca-a6ad-9dcf4c76e050"
      },
      "execution_count": 16,
      "outputs": [
        {
          "output_type": "stream",
          "name": "stdout",
          "text": [
            "      total_bill       tip      size\n",
            "day                                 \n",
            "Thur   17.682742  2.771452  2.451613\n",
            "Fri    17.151579  2.734737  2.105263\n",
            "Sat    20.441379  2.993103  2.517241\n",
            "Sun    21.410000  3.255132  2.842105\n",
            "      total_bill    tip  size\n",
            "day                          \n",
            "Thur       16.20  2.305   2.0\n",
            "Fri        15.38  3.000   2.0\n",
            "Sat        18.24  2.750   2.0\n",
            "Sun        19.63  3.150   2.0\n",
            "      total_bill   tip  size\n",
            "day                         \n",
            "Thur        7.51  1.25     1\n",
            "Fri         5.75  1.00     1\n",
            "Sat         3.07  1.00     1\n",
            "Sun         7.25  1.01     2\n",
            "      total_bill    tip  size\n",
            "day                          \n",
            "Thur       43.11   6.70     6\n",
            "Fri        40.17   4.73     4\n",
            "Sat        50.81  10.00     5\n",
            "Sun        48.17   6.50     6\n",
            "      total_bill       tip      size\n",
            "day                                 \n",
            "Thur    7.886170  1.240223  1.066285\n",
            "Fri     8.302660  1.019577  0.567131\n",
            "Sat     9.480419  1.631014  0.819275\n",
            "Sun     8.832122  1.234880  1.007341\n"
          ]
        },
        {
          "output_type": "stream",
          "name": "stderr",
          "text": [
            "<ipython-input-16-161c7aae890e>:3: FutureWarning: The default value of numeric_only in DataFrameGroupBy.mean is deprecated. In a future version, numeric_only will default to False. Either specify numeric_only or select only columns which should be valid for the function.\n",
            "  mean = grouped_df.mean()\n",
            "<ipython-input-16-161c7aae890e>:6: FutureWarning: The default value of numeric_only in DataFrameGroupBy.median is deprecated. In a future version, numeric_only will default to False. Either specify numeric_only or select only columns which should be valid for the function.\n",
            "  median = grouped_df.median()\n",
            "<ipython-input-16-161c7aae890e>:9: FutureWarning: Dropping invalid columns in DataFrameGroupBy.min is deprecated. In a future version, a TypeError will be raised. Before calling .min, select only columns which should be valid for the function.\n",
            "  min = grouped_df.min()\n",
            "<ipython-input-16-161c7aae890e>:12: FutureWarning: Dropping invalid columns in DataFrameGroupBy.max is deprecated. In a future version, a TypeError will be raised. Before calling .max, select only columns which should be valid for the function.\n",
            "  max = grouped_df.max()\n",
            "<ipython-input-16-161c7aae890e>:15: FutureWarning: The default value of numeric_only in DataFrameGroupBy.std is deprecated. In a future version, numeric_only will default to False. Either specify numeric_only or select only columns which should be valid for the function.\n",
            "  std = grouped_df.std()\n"
          ]
        }
      ]
    },
    {
      "cell_type": "code",
      "source": [
        "grouped_df=df.groupby('time')\n",
        "\n",
        "mean = grouped_df.mean()\n",
        "print(mean)\n",
        "\n",
        "median = grouped_df.median()\n",
        "print(median)\n",
        "\n",
        "min = grouped_df.min()\n",
        "print(min)\n",
        "\n",
        "max = grouped_df.max()\n",
        "print(max)\n",
        "\n",
        "std = grouped_df.std()\n",
        "print(std)"
      ],
      "metadata": {
        "colab": {
          "base_uri": "https://localhost:8080/"
        },
        "id": "8RUff1xP95GH",
        "outputId": "176870b4-f078-46f0-8b98-eb1e82ddb48f"
      },
      "execution_count": 17,
      "outputs": [
        {
          "output_type": "stream",
          "name": "stdout",
          "text": [
            "        total_bill       tip      size\n",
            "time                                  \n",
            "Lunch    17.168676  2.728088  2.411765\n",
            "Dinner   20.797159  3.102670  2.630682\n",
            "        total_bill   tip  size\n",
            "time                          \n",
            "Lunch       15.965  2.25   2.0\n",
            "Dinner      18.390  3.00   2.0\n",
            "        total_bill   tip  size\n",
            "time                          \n",
            "Lunch         7.51  1.25     1\n",
            "Dinner        3.07  1.00     1\n",
            "        total_bill   tip  size\n",
            "time                          \n",
            "Lunch        43.11   6.7     6\n",
            "Dinner       50.81  10.0     6\n",
            "        total_bill       tip      size\n",
            "time                                  \n",
            "Lunch     7.713882  1.205345  1.040024\n",
            "Dinner    9.142029  1.436243  0.910241\n"
          ]
        },
        {
          "output_type": "stream",
          "name": "stderr",
          "text": [
            "<ipython-input-17-1a04a869e47f>:3: FutureWarning: The default value of numeric_only in DataFrameGroupBy.mean is deprecated. In a future version, numeric_only will default to False. Either specify numeric_only or select only columns which should be valid for the function.\n",
            "  mean = grouped_df.mean()\n",
            "<ipython-input-17-1a04a869e47f>:6: FutureWarning: The default value of numeric_only in DataFrameGroupBy.median is deprecated. In a future version, numeric_only will default to False. Either specify numeric_only or select only columns which should be valid for the function.\n",
            "  median = grouped_df.median()\n",
            "<ipython-input-17-1a04a869e47f>:9: FutureWarning: Dropping invalid columns in DataFrameGroupBy.min is deprecated. In a future version, a TypeError will be raised. Before calling .min, select only columns which should be valid for the function.\n",
            "  min = grouped_df.min()\n",
            "<ipython-input-17-1a04a869e47f>:12: FutureWarning: Dropping invalid columns in DataFrameGroupBy.max is deprecated. In a future version, a TypeError will be raised. Before calling .max, select only columns which should be valid for the function.\n",
            "  max = grouped_df.max()\n",
            "<ipython-input-17-1a04a869e47f>:15: FutureWarning: The default value of numeric_only in DataFrameGroupBy.std is deprecated. In a future version, numeric_only will default to False. Either specify numeric_only or select only columns which should be valid for the function.\n",
            "  std = grouped_df.std()\n"
          ]
        }
      ]
    },
    {
      "cell_type": "code",
      "source": [],
      "metadata": {
        "id": "yk7PRyqMCQpE",
        "colab": {
          "base_uri": "https://localhost:8080/"
        },
        "outputId": "863d9096-6bcd-4458-b216-920eae7834f9"
      },
      "execution_count": 19,
      "outputs": [
        {
          "output_type": "stream",
          "name": "stdout",
          "text": [
            "                          total_bill                                        \\\n",
            "                               count       mean        std    min      25%   \n",
            "sex    smoker day  time                                                      \n",
            "Male   Yes    Thur Lunch        10.0  19.171000   6.757421  10.34  15.6100   \n",
            "              Fri  Lunch         3.0  11.386667   2.510963   8.58  10.3700   \n",
            "                   Dinner        5.0  25.892000  10.383290  12.03  21.0100   \n",
            "              Sat  Dinner       27.0  21.837778   9.988045   7.74  15.1850   \n",
            "              Sun  Dinner       15.0  26.141333  10.693824   7.25  17.3550   \n",
            "       No     Thur Lunch        20.0  18.486500   8.739134   7.51  12.6950   \n",
            "              Fri  Dinner        2.0  17.475000   7.092281  12.46  14.9675   \n",
            "              Sat  Dinner       32.0  19.929063   9.779061   9.55  13.3475   \n",
            "              Sun  Dinner       43.0  20.403256   8.140559   8.77  14.4250   \n",
            "Female Yes    Thur Lunch         7.0  19.218571  10.847137  12.74  13.0000   \n",
            "              Fri  Lunch         3.0  13.260000   3.093105  10.09  11.7550   \n",
            "                   Dinner        4.0  12.200000   4.810121   5.75   9.9500   \n",
            "              Sat  Dinner       15.0  20.266667  10.485703   3.07  12.8300   \n",
            "              Sun  Dinner        4.0  16.540000   4.854764   9.60  15.5325   \n",
            "       No     Thur Lunch        24.0  15.899167   6.904808   8.35  11.3275   \n",
            "                   Dinner        1.0  18.780000        NaN  18.78  18.7800   \n",
            "              Fri  Lunch         1.0  15.980000        NaN  15.98  15.9800   \n",
            "                   Dinner        1.0  22.750000        NaN  22.75  22.7500   \n",
            "              Sat  Dinner       13.0  19.003846   6.730219   7.25  15.7700   \n",
            "              Sun  Dinner       14.0  20.824286   8.396159  10.29  15.1750   \n",
            "\n",
            "                                                    tip            ...  \\\n",
            "                              50%      75%    max count      mean  ...   \n",
            "sex    smoker day  time                                            ...   \n",
            "Male   Yes    Thur Lunch   17.645  20.2575  32.68  10.0  3.058000  ...   \n",
            "              Fri  Lunch   12.160  12.7900  13.42   3.0  1.900000  ...   \n",
            "                   Dinner  27.280  28.9700  40.17   5.0  3.246000  ...   \n",
            "              Sat  Dinner  20.290  26.2400  50.81  27.0  2.879259  ...   \n",
            "              Sun  Dinner  23.330  33.7650  45.35  15.0  3.521333  ...   \n",
            "       No     Thur Lunch   16.975  22.7750  41.19  20.0  2.941500  ...   \n",
            "              Fri  Dinner  17.475  19.9825  22.49   2.0  2.500000  ...   \n",
            "              Sat  Dinner  17.870  20.5000  48.33  32.0  3.256563  ...   \n",
            "              Sun  Dinner  19.490  24.5350  48.17  43.0  3.115349  ...   \n",
            "Female Yes    Thur Lunch   16.400  18.1400  43.11   7.0  2.990000  ...   \n",
            "              Fri  Lunch   13.420  14.8450  16.27   3.0  2.660000  ...   \n",
            "                   Dinner  13.365  15.6150  16.32   4.0  2.700000  ...   \n",
            "              Sat  Dinner  22.120  27.0200  44.30  15.0  2.868667  ...   \n",
            "              Sun  Dinner  17.830  18.8375  20.90   4.0  3.500000  ...   \n",
            "       No     Thur Lunch   13.290  18.3550  34.83  24.0  2.437083  ...   \n",
            "                   Dinner  18.780  18.7800  18.78   1.0  3.000000  ...   \n",
            "              Fri  Lunch   15.980  15.9800  15.98   1.0  3.000000  ...   \n",
            "                   Dinner  22.750  22.7500  22.75   1.0  3.250000  ...   \n",
            "              Sat  Dinner  17.070  20.6900  35.83  13.0  2.724615  ...   \n",
            "              Sun  Dinner  17.150  25.5325  35.26  14.0  3.329286  ...   \n",
            "\n",
            "                                          size                                \\\n",
            "                              75%    max count      mean       std  min  25%   \n",
            "sex    smoker day  time                                                        \n",
            "Male   Yes    Thur Lunch   4.0000   5.00  10.0  2.300000  0.674949  2.0  2.0   \n",
            "              Fri  Lunch   2.0600   2.20   3.0  1.666667  0.577350  1.0  1.5   \n",
            "                   Dinner  4.0000   4.73   5.0  2.400000  0.894427  2.0  2.0   \n",
            "              Sat  Dinner  3.1850  10.00  27.0  2.629630  0.926040  2.0  2.0   \n",
            "              Sun  Dinner  4.0000   6.50  15.0  2.600000  0.985611  2.0  2.0   \n",
            "       No     Thur Lunch   3.5500   6.70  20.0  2.500000  1.147079  2.0  2.0   \n",
            "              Fri  Dinner  3.0000   3.50   2.0  2.000000  0.000000  2.0  2.0   \n",
            "              Sat  Dinner  3.6400   9.00  32.0  2.656250  0.787375  2.0  2.0   \n",
            "              Sun  Dinner  3.8150   6.00  43.0  2.883721  1.051287  2.0  2.0   \n",
            "Female Yes    Thur Lunch   3.7100   5.00   7.0  2.428571  0.786796  2.0  2.0   \n",
            "              Fri  Lunch   2.9900   3.48   3.0  2.000000  0.000000  2.0  2.0   \n",
            "                   Dinner  3.3250   4.30   4.0  2.000000  0.000000  2.0  2.0   \n",
            "              Sat  Dinner  3.3100   6.50  15.0  2.200000  0.676123  1.0  2.0   \n",
            "              Sun  Dinner  3.6250   4.00   4.0  2.500000  0.577350  2.0  2.0   \n",
            "       No     Thur Lunch   2.8525   5.17  24.0  2.500000  1.251086  1.0  2.0   \n",
            "                   Dinner  3.0000   3.00   1.0  2.000000       NaN  2.0  2.0   \n",
            "              Fri  Lunch   3.0000   3.00   1.0  3.000000       NaN  3.0  3.0   \n",
            "                   Dinner  3.2500   3.25   1.0  2.000000       NaN  2.0  2.0   \n",
            "              Sat  Dinner  3.0000   4.67  13.0  2.307692  0.751068  1.0  2.0   \n",
            "              Sun  Dinner  3.9375   5.20  14.0  3.071429  0.997249  2.0  2.0   \n",
            "\n",
            "                                          \n",
            "                           50%  75%  max  \n",
            "sex    smoker day  time                   \n",
            "Male   Yes    Thur Lunch   2.0  2.0  4.0  \n",
            "              Fri  Lunch   2.0  2.0  2.0  \n",
            "                   Dinner  2.0  2.0  4.0  \n",
            "              Sat  Dinner  2.0  3.0  5.0  \n",
            "              Sun  Dinner  2.0  3.0  5.0  \n",
            "       No     Thur Lunch   2.0  2.0  6.0  \n",
            "              Fri  Dinner  2.0  2.0  2.0  \n",
            "              Sat  Dinner  2.0  3.0  4.0  \n",
            "              Sun  Dinner  2.0  4.0  6.0  \n",
            "Female Yes    Thur Lunch   2.0  2.5  4.0  \n",
            "              Fri  Lunch   2.0  2.0  2.0  \n",
            "                   Dinner  2.0  2.0  2.0  \n",
            "              Sat  Dinner  2.0  2.0  4.0  \n",
            "              Sun  Dinner  2.5  3.0  3.0  \n",
            "       No     Thur Lunch   2.0  2.0  6.0  \n",
            "                   Dinner  2.0  2.0  2.0  \n",
            "              Fri  Lunch   3.0  3.0  3.0  \n",
            "                   Dinner  2.0  2.0  2.0  \n",
            "              Sat  Dinner  2.0  3.0  4.0  \n",
            "              Sun  Dinner  3.0  4.0  5.0  \n",
            "\n",
            "[20 rows x 24 columns]\n"
          ]
        }
      ]
    }
  ]
}