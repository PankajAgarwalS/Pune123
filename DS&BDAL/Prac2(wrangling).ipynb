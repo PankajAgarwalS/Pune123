{
 "cells": [
  {
   "cell_type": "markdown",
   "metadata": {
    "colab_type": "text",
    "id": "view-in-github"
   },
   "source": [
    "<a href=\"https://colab.research.google.com/github/PankajAgarwalS/TE-COMP-SEM-6/blob/main/Prac2.ipynb\" target=\"_parent\"><img src=\"https://colab.research.google.com/assets/colab-badge.svg\" alt=\"Open In Colab\"/></a>"
   ]
  },
  {
   "cell_type": "code",
   "execution_count": 36,
   "metadata": {
    "colab": {
     "base_uri": "https://localhost:8080/",
     "height": 443
    },
    "id": "pxGpY3UPLQPr",
    "outputId": "d7b54ee5-57fd-4305-9464-cecd5dde83b5"
   },
   "outputs": [
    {
     "data": {
      "text/html": [
       "<div>\n",
       "<style scoped>\n",
       "    .dataframe tbody tr th:only-of-type {\n",
       "        vertical-align: middle;\n",
       "    }\n",
       "\n",
       "    .dataframe tbody tr th {\n",
       "        vertical-align: top;\n",
       "    }\n",
       "\n",
       "    .dataframe thead th {\n",
       "        text-align: right;\n",
       "    }\n",
       "</style>\n",
       "<table border=\"1\" class=\"dataframe\">\n",
       "  <thead>\n",
       "    <tr style=\"text-align: right;\">\n",
       "      <th></th>\n",
       "      <th>Unnamed: 0</th>\n",
       "      <th>Student Name</th>\n",
       "      <th>Department</th>\n",
       "      <th>Physics</th>\n",
       "      <th>Mathematics</th>\n",
       "      <th>Chemistry</th>\n",
       "      <th>AI</th>\n",
       "      <th>Term Work</th>\n",
       "      <th>DOB</th>\n",
       "    </tr>\n",
       "  </thead>\n",
       "  <tbody>\n",
       "    <tr>\n",
       "      <th>0</th>\n",
       "      <td>0</td>\n",
       "      <td>Theresa Blue</td>\n",
       "      <td>COMPUTER</td>\n",
       "      <td>62.0</td>\n",
       "      <td>4.0</td>\n",
       "      <td>64.1</td>\n",
       "      <td>74.0</td>\n",
       "      <td>8</td>\n",
       "      <td>2003-2-19</td>\n",
       "    </tr>\n",
       "    <tr>\n",
       "      <th>1</th>\n",
       "      <td>1</td>\n",
       "      <td>Teresa Gipson</td>\n",
       "      <td>ENTC</td>\n",
       "      <td>66.0</td>\n",
       "      <td>21.0</td>\n",
       "      <td>297.0</td>\n",
       "      <td>39.0</td>\n",
       "      <td>2</td>\n",
       "      <td>2001-3-2</td>\n",
       "    </tr>\n",
       "    <tr>\n",
       "      <th>2</th>\n",
       "      <td>2</td>\n",
       "      <td>Miguel Gibson</td>\n",
       "      <td>MECHANICAL</td>\n",
       "      <td>43.0</td>\n",
       "      <td>71.0</td>\n",
       "      <td>218.0</td>\n",
       "      <td>67.0</td>\n",
       "      <td>7</td>\n",
       "      <td>2002-2-15</td>\n",
       "    </tr>\n",
       "    <tr>\n",
       "      <th>3</th>\n",
       "      <td>3</td>\n",
       "      <td>Diane Griffin</td>\n",
       "      <td>ENTC</td>\n",
       "      <td>58.0</td>\n",
       "      <td>69.0</td>\n",
       "      <td>53.0</td>\n",
       "      <td>21.6</td>\n",
       "      <td>7</td>\n",
       "      <td>2001-4-5</td>\n",
       "    </tr>\n",
       "    <tr>\n",
       "      <th>4</th>\n",
       "      <td>4</td>\n",
       "      <td>Leigh Taylor</td>\n",
       "      <td>MECHANICAL</td>\n",
       "      <td>NaN</td>\n",
       "      <td>71.0</td>\n",
       "      <td>252.0</td>\n",
       "      <td>84.0</td>\n",
       "      <td>2</td>\n",
       "      <td>2002-5-7</td>\n",
       "    </tr>\n",
       "  </tbody>\n",
       "</table>\n",
       "</div>"
      ],
      "text/plain": [
       "   Unnamed: 0   Student Name  Department  Physics  Mathematics  Chemistry  \\\n",
       "0           0   Theresa Blue    COMPUTER     62.0          4.0       64.1   \n",
       "1           1  Teresa Gipson        ENTC     66.0         21.0      297.0   \n",
       "2           2  Miguel Gibson  MECHANICAL     43.0         71.0      218.0   \n",
       "3           3  Diane Griffin        ENTC     58.0         69.0       53.0   \n",
       "4           4   Leigh Taylor  MECHANICAL      NaN         71.0      252.0   \n",
       "\n",
       "     AI  Term Work        DOB  \n",
       "0  74.0          8  2003-2-19  \n",
       "1  39.0          2   2001-3-2  \n",
       "2  67.0          7  2002-2-15  \n",
       "3  21.6          7   2001-4-5  \n",
       "4  84.0          2   2002-5-7  "
      ]
     },
     "execution_count": 36,
     "metadata": {},
     "output_type": "execute_result"
    }
   ],
   "source": [
    "import pandas as pd\n",
    "import numpy as np\n",
    "import seaborn as sns\n",
    "url = \"https://raw.githubusercontent.com/Sahil-Naik/TE-Programming/main/DSBDAL/Assignment-2/Academic%20Performance.csv\"\n",
    "\n",
    "df = pd.read_csv(url)\n",
    "\n",
    "df.head()"
   ]
  },
  {
   "cell_type": "code",
   "execution_count": 37,
   "metadata": {
    "colab": {
     "base_uri": "https://localhost:8080/"
    },
    "id": "_GHsgKdbNtsi",
    "outputId": "49bae6be-f875-4f58-e6a2-e5131c146c0c"
   },
   "outputs": [
    {
     "name": "stdout",
     "output_type": "stream",
     "text": [
      "<class 'pandas.core.frame.DataFrame'>\n",
      "RangeIndex: 784 entries, 0 to 783\n",
      "Data columns (total 9 columns):\n",
      " #   Column        Non-Null Count  Dtype  \n",
      "---  ------        --------------  -----  \n",
      " 0   Unnamed: 0    784 non-null    int64  \n",
      " 1   Student Name  784 non-null    object \n",
      " 2   Department    784 non-null    object \n",
      " 3   Physics       675 non-null    float64\n",
      " 4   Mathematics   695 non-null    float64\n",
      " 5   Chemistry     784 non-null    float64\n",
      " 6   AI            684 non-null    float64\n",
      " 7   Term Work     784 non-null    int64  \n",
      " 8   DOB           784 non-null    object \n",
      "dtypes: float64(4), int64(2), object(3)\n",
      "memory usage: 55.3+ KB\n"
     ]
    }
   ],
   "source": [
    "df.info()"
   ]
  },
  {
   "cell_type": "code",
   "execution_count": 38,
   "metadata": {
    "colab": {
     "base_uri": "https://localhost:8080/",
     "height": 226
    },
    "id": "c2JqRpgjO47G",
    "outputId": "1ea1fc78-3913-41fb-fead-365d55e1491b"
   },
   "outputs": [
    {
     "data": {
      "text/html": [
       "<div>\n",
       "<style scoped>\n",
       "    .dataframe tbody tr th:only-of-type {\n",
       "        vertical-align: middle;\n",
       "    }\n",
       "\n",
       "    .dataframe tbody tr th {\n",
       "        vertical-align: top;\n",
       "    }\n",
       "\n",
       "    .dataframe thead th {\n",
       "        text-align: right;\n",
       "    }\n",
       "</style>\n",
       "<table border=\"1\" class=\"dataframe\">\n",
       "  <thead>\n",
       "    <tr style=\"text-align: right;\">\n",
       "      <th></th>\n",
       "      <th>Unnamed: 0</th>\n",
       "      <th>Student Name</th>\n",
       "      <th>Department</th>\n",
       "      <th>Physics</th>\n",
       "      <th>Mathematics</th>\n",
       "      <th>Chemistry</th>\n",
       "      <th>AI</th>\n",
       "      <th>Term Work</th>\n",
       "      <th>DOB</th>\n",
       "    </tr>\n",
       "  </thead>\n",
       "  <tbody>\n",
       "    <tr>\n",
       "      <th>212</th>\n",
       "      <td>212</td>\n",
       "      <td>Guadalupe Rich</td>\n",
       "      <td>COMPUTER</td>\n",
       "      <td>78.0</td>\n",
       "      <td>19.0</td>\n",
       "      <td>72.8</td>\n",
       "      <td>99.0</td>\n",
       "      <td>1</td>\n",
       "      <td>2003-10-19</td>\n",
       "    </tr>\n",
       "    <tr>\n",
       "      <th>714</th>\n",
       "      <td>714</td>\n",
       "      <td>John Carpenter</td>\n",
       "      <td>COMPUTER</td>\n",
       "      <td>88.0</td>\n",
       "      <td>90.0</td>\n",
       "      <td>214.0</td>\n",
       "      <td>20.4</td>\n",
       "      <td>6</td>\n",
       "      <td>2001-3-27</td>\n",
       "    </tr>\n",
       "    <tr>\n",
       "      <th>479</th>\n",
       "      <td>479</td>\n",
       "      <td>Charlena Jarvis</td>\n",
       "      <td>COMPUTER</td>\n",
       "      <td>100.0</td>\n",
       "      <td>54.5</td>\n",
       "      <td>30.0</td>\n",
       "      <td>31.5</td>\n",
       "      <td>10</td>\n",
       "      <td>2003-8-18</td>\n",
       "    </tr>\n",
       "    <tr>\n",
       "      <th>237</th>\n",
       "      <td>237</td>\n",
       "      <td>Brian Hong</td>\n",
       "      <td>ENTC</td>\n",
       "      <td>93.0</td>\n",
       "      <td>3.0</td>\n",
       "      <td>247.0</td>\n",
       "      <td>18.7</td>\n",
       "      <td>2</td>\n",
       "      <td>2002-8-1</td>\n",
       "    </tr>\n",
       "    <tr>\n",
       "      <th>646</th>\n",
       "      <td>646</td>\n",
       "      <td>Lillian Cardone</td>\n",
       "      <td>ENTC</td>\n",
       "      <td>69.0</td>\n",
       "      <td>26.0</td>\n",
       "      <td>23.0</td>\n",
       "      <td>85.0</td>\n",
       "      <td>8</td>\n",
       "      <td>2002-4-17</td>\n",
       "    </tr>\n",
       "  </tbody>\n",
       "</table>\n",
       "</div>"
      ],
      "text/plain": [
       "     Unnamed: 0     Student Name Department  Physics  Mathematics  Chemistry  \\\n",
       "212         212   Guadalupe Rich   COMPUTER     78.0         19.0       72.8   \n",
       "714         714   John Carpenter   COMPUTER     88.0         90.0      214.0   \n",
       "479         479  Charlena Jarvis   COMPUTER    100.0         54.5       30.0   \n",
       "237         237       Brian Hong       ENTC     93.0          3.0      247.0   \n",
       "646         646  Lillian Cardone       ENTC     69.0         26.0       23.0   \n",
       "\n",
       "       AI  Term Work         DOB  \n",
       "212  99.0          1  2003-10-19  \n",
       "714  20.4          6   2001-3-27  \n",
       "479  31.5         10   2003-8-18  \n",
       "237  18.7          2    2002-8-1  \n",
       "646  85.0          8   2002-4-17  "
      ]
     },
     "execution_count": 38,
     "metadata": {},
     "output_type": "execute_result"
    }
   ],
   "source": [
    "df.sample(5)"
   ]
  },
  {
   "cell_type": "code",
   "execution_count": 39,
   "metadata": {
    "colab": {
     "base_uri": "https://localhost:8080/"
    },
    "id": "z6qaB_iLO_kU",
    "outputId": "b8d00c22-bdd6-48f4-b98e-147b800aaaf3"
   },
   "outputs": [
    {
     "data": {
      "text/plain": [
       "(784, 9)"
      ]
     },
     "execution_count": 39,
     "metadata": {},
     "output_type": "execute_result"
    }
   ],
   "source": [
    "df.shape"
   ]
  },
  {
   "cell_type": "code",
   "execution_count": 40,
   "metadata": {
    "colab": {
     "base_uri": "https://localhost:8080/",
     "height": 300
    },
    "id": "itbL5NH0PC12",
    "outputId": "fe0a143e-8dd3-498c-909a-81318c70c1e5"
   },
   "outputs": [
    {
     "data": {
      "text/html": [
       "<div>\n",
       "<style scoped>\n",
       "    .dataframe tbody tr th:only-of-type {\n",
       "        vertical-align: middle;\n",
       "    }\n",
       "\n",
       "    .dataframe tbody tr th {\n",
       "        vertical-align: top;\n",
       "    }\n",
       "\n",
       "    .dataframe thead th {\n",
       "        text-align: right;\n",
       "    }\n",
       "</style>\n",
       "<table border=\"1\" class=\"dataframe\">\n",
       "  <thead>\n",
       "    <tr style=\"text-align: right;\">\n",
       "      <th></th>\n",
       "      <th>Unnamed: 0</th>\n",
       "      <th>Physics</th>\n",
       "      <th>Mathematics</th>\n",
       "      <th>Chemistry</th>\n",
       "      <th>AI</th>\n",
       "      <th>Term Work</th>\n",
       "    </tr>\n",
       "  </thead>\n",
       "  <tbody>\n",
       "    <tr>\n",
       "      <th>count</th>\n",
       "      <td>784.000000</td>\n",
       "      <td>675.000000</td>\n",
       "      <td>695.000000</td>\n",
       "      <td>784.000000</td>\n",
       "      <td>684.000000</td>\n",
       "      <td>784.000000</td>\n",
       "    </tr>\n",
       "    <tr>\n",
       "      <th>mean</th>\n",
       "      <td>391.500000</td>\n",
       "      <td>58.491852</td>\n",
       "      <td>55.071655</td>\n",
       "      <td>71.267092</td>\n",
       "      <td>57.170760</td>\n",
       "      <td>5.600765</td>\n",
       "    </tr>\n",
       "    <tr>\n",
       "      <th>std</th>\n",
       "      <td>226.465597</td>\n",
       "      <td>23.926219</td>\n",
       "      <td>28.839885</td>\n",
       "      <td>64.217161</td>\n",
       "      <td>28.555803</td>\n",
       "      <td>2.833849</td>\n",
       "    </tr>\n",
       "    <tr>\n",
       "      <th>min</th>\n",
       "      <td>0.000000</td>\n",
       "      <td>2.000000</td>\n",
       "      <td>1.000000</td>\n",
       "      <td>1.000000</td>\n",
       "      <td>1.200000</td>\n",
       "      <td>1.000000</td>\n",
       "    </tr>\n",
       "    <tr>\n",
       "      <th>25%</th>\n",
       "      <td>195.750000</td>\n",
       "      <td>43.000000</td>\n",
       "      <td>29.000000</td>\n",
       "      <td>36.000000</td>\n",
       "      <td>33.275000</td>\n",
       "      <td>3.000000</td>\n",
       "    </tr>\n",
       "    <tr>\n",
       "      <th>50%</th>\n",
       "      <td>391.500000</td>\n",
       "      <td>58.000000</td>\n",
       "      <td>59.000000</td>\n",
       "      <td>56.500000</td>\n",
       "      <td>62.000000</td>\n",
       "      <td>6.000000</td>\n",
       "    </tr>\n",
       "    <tr>\n",
       "      <th>75%</th>\n",
       "      <td>587.250000</td>\n",
       "      <td>78.000000</td>\n",
       "      <td>78.500000</td>\n",
       "      <td>74.825000</td>\n",
       "      <td>81.000000</td>\n",
       "      <td>8.000000</td>\n",
       "    </tr>\n",
       "    <tr>\n",
       "      <th>max</th>\n",
       "      <td>783.000000</td>\n",
       "      <td>100.000000</td>\n",
       "      <td>100.000000</td>\n",
       "      <td>300.000000</td>\n",
       "      <td>100.000000</td>\n",
       "      <td>10.000000</td>\n",
       "    </tr>\n",
       "  </tbody>\n",
       "</table>\n",
       "</div>"
      ],
      "text/plain": [
       "       Unnamed: 0     Physics  Mathematics   Chemistry          AI   Term Work\n",
       "count  784.000000  675.000000   695.000000  784.000000  684.000000  784.000000\n",
       "mean   391.500000   58.491852    55.071655   71.267092   57.170760    5.600765\n",
       "std    226.465597   23.926219    28.839885   64.217161   28.555803    2.833849\n",
       "min      0.000000    2.000000     1.000000    1.000000    1.200000    1.000000\n",
       "25%    195.750000   43.000000    29.000000   36.000000   33.275000    3.000000\n",
       "50%    391.500000   58.000000    59.000000   56.500000   62.000000    6.000000\n",
       "75%    587.250000   78.000000    78.500000   74.825000   81.000000    8.000000\n",
       "max    783.000000  100.000000   100.000000  300.000000  100.000000   10.000000"
      ]
     },
     "execution_count": 40,
     "metadata": {},
     "output_type": "execute_result"
    }
   ],
   "source": [
    "df.describe()"
   ]
  },
  {
   "cell_type": "code",
   "execution_count": 41,
   "metadata": {},
   "outputs": [
    {
     "data": {
      "text/plain": [
       "Unnamed: 0        0\n",
       "Student Name      0\n",
       "Department        0\n",
       "Physics         109\n",
       "Mathematics      89\n",
       "Chemistry         0\n",
       "AI              100\n",
       "Term Work         0\n",
       "DOB               0\n",
       "dtype: int64"
      ]
     },
     "execution_count": 41,
     "metadata": {},
     "output_type": "execute_result"
    }
   ],
   "source": [
    "df.isnull().sum()"
   ]
  },
  {
   "cell_type": "code",
   "execution_count": 42,
   "metadata": {},
   "outputs": [],
   "source": [
    "df['Physics'] = df['Physics'].fillna(value=df['Physics'].mean())\n",
    "df['Mathematics'] = df['Mathematics'].fillna(value=df['Mathematics'].mean())\n",
    "df['AI'] = df['AI'].fillna(value=df['AI'].mean())"
   ]
  },
  {
   "cell_type": "code",
   "execution_count": 43,
   "metadata": {},
   "outputs": [
    {
     "data": {
      "text/plain": [
       "Unnamed: 0      0\n",
       "Student Name    0\n",
       "Department      0\n",
       "Physics         0\n",
       "Mathematics     0\n",
       "Chemistry       0\n",
       "AI              0\n",
       "Term Work       0\n",
       "DOB             0\n",
       "dtype: int64"
      ]
     },
     "execution_count": 43,
     "metadata": {},
     "output_type": "execute_result"
    }
   ],
   "source": [
    "df.isnull().sum()"
   ]
  },
  {
   "cell_type": "code",
   "execution_count": 44,
   "metadata": {},
   "outputs": [
    {
     "data": {
      "text/plain": [
       "<Axes: ylabel='Physics'>"
      ]
     },
     "execution_count": 44,
     "metadata": {},
     "output_type": "execute_result"
    },
    {
     "data": {
      "image/png": "[encoded data removed]",
      "text/plain": [
       "<Figure size 640x480 with 1 Axes>"
      ]
     },
     "metadata": {},
     "output_type": "display_data"
    }
   ],
   "source": [
    "sns.boxplot(df['Physics'])"
   ]
  },
  {
   "cell_type": "code",
   "execution_count": 45,
   "metadata": {},
   "outputs": [
    {
     "data": {
      "text/plain": [
       "<Axes: ylabel='Mathematics'>"
      ]
     },
     "execution_count": 45,
     "metadata": {},
     "output_type": "execute_result"
    },
    {
     "data": {
      "image/png": "[encoded data removed]",
      "text/plain": [
       "<Figure size 640x480 with 1 Axes>"
      ]
     },
     "metadata": {},
     "output_type": "display_data"
    }
   ],
   "source": [
    "sns.boxplot(df['Mathematics'])\n"
   ]
  },
  {
   "cell_type": "code",
   "execution_count": 46,
   "metadata": {},
   "outputs": [
    {
     "data": {
      "text/plain": [
       "<Axes: ylabel='Chemistry'>"
      ]
     },
     "execution_count": 46,
     "metadata": {},
     "output_type": "execute_result"
    },
    {
     "data": {
      "image/png": "[encoded data removed]",
      "text/plain": [
       "<Figure size 640x480 with 1 Axes>"
      ]
     },
     "metadata": {},
     "output_type": "display_data"
    }
   ],
   "source": [
    "sns.boxplot(df['Chemistry'])\n"
   ]
  },
  {
   "cell_type": "code",
   "execution_count": 47,
   "metadata": {},
   "outputs": [
    {
     "data": {
      "text/plain": [
       "<Axes: ylabel='AI'>"
      ]
     },
     "execution_count": 47,
     "metadata": {},
     "output_type": "execute_result"
    },
    {
     "data": {
      "image/png": "[encoded data removed]",
      "text/plain": [
       "<Figure size 640x480 with 1 Axes>"
      ]
     },
     "metadata": {},
     "output_type": "display_data"
    }
   ],
   "source": [
    "sns.boxplot(df['AI'])\n"
   ]
  },
  {
   "cell_type": "code",
   "execution_count": 48,
   "metadata": {},
   "outputs": [
    {
     "name": "stdout",
     "output_type": "stream",
     "text": [
      "Old Shape of Dataset: (784, 9)\n",
      "New Shape of Dataset: (784, 9)\n"
     ]
    }
   ],
   "source": [
    "Q1 = np.percentile(df['Physics'], 25, interpolation = 'midpoint')\n",
    "Q3 = np.percentile(df['Physics'], 75, interpolation = 'midpoint')\n",
    "IQR = Q3 - Q1\n",
    "\n",
    "print(\"Old Shape of Dataset: {}\".format(df.shape))\n",
    "\n",
    "# Upper bound\n",
    "upper = np.where(df['Physics'] >= (Q3+1.5*IQR))\n",
    "\n",
    "# Lower bound\n",
    "lower = np.where(df['Physics'] <= (Q1-1.5*IQR))\n",
    "\n",
    "df.drop(upper[0], inplace = True)\n",
    "df.drop(lower[0], inplace = True)\n",
    " \n",
    "print(\"New Shape of Dataset: {}\".format(df.shape))"
   ]
  },
  {
   "cell_type": "code",
   "execution_count": 49,
   "metadata": {},
   "outputs": [
    {
     "name": "stdout",
     "output_type": "stream",
     "text": [
      "Old Shape of Dataset: (784, 9)\n",
      "New Shape of Dataset: (689, 9)\n"
     ]
    }
   ],
   "source": [
    "Q1 = np.percentile(df['Chemistry'], 25, interpolation = 'midpoint')\n",
    "Q3 = np.percentile(df['Chemistry'], 75, interpolation = 'midpoint')\n",
    "IQR = Q3 - Q1\n",
    "\n",
    "print(\"Old Shape of Dataset: {}\".format(df.shape))\n",
    "\n",
    "# Upper bound\n",
    "upper = np.where(df['Chemistry'] >= (Q3+1.5*IQR))\n",
    "\n",
    "# Lower bound\n",
    "lower = np.where(df['Chemistry'] <= (Q1-1.5*IQR))\n",
    "\n",
    "df.drop(upper[0], inplace = True)\n",
    "df.drop(lower[0], inplace = True)\n",
    " \n",
    "print(\"New Shape of Dataset: {}\".format(df.shape))"
   ]
  },
  {
   "cell_type": "code",
   "execution_count": 50,
   "metadata": {},
   "outputs": [
    {
     "data": {
      "text/plain": [
       "<Axes: ylabel='Chemistry'>"
      ]
     },
     "execution_count": 50,
     "metadata": {},
     "output_type": "execute_result"
    },
    {
     "data": {
      "image/png": "[encoded data removed]",
      "text/plain": [
       "<Figure size 640x480 with 1 Axes>"
      ]
     },
     "metadata": {},
     "output_type": "display_data"
    }
   ],
   "source": [
    "sns.boxplot(df['Chemistry'])\n"
   ]
  },
  {
   "cell_type": "code",
   "execution_count": 51,
   "metadata": {},
   "outputs": [],
   "source": [
    "df['DOB'] =  pd.to_datetime(df['DOB'])"
   ]
  },
  {
   "cell_type": "code",
   "execution_count": 52,
   "metadata": {},
   "outputs": [
    {
     "name": "stdout",
     "output_type": "stream",
     "text": [
      "<class 'pandas.core.frame.DataFrame'>\n",
      "Index: 689 entries, 0 to 783\n",
      "Data columns (total 9 columns):\n",
      " #   Column        Non-Null Count  Dtype         \n",
      "---  ------        --------------  -----         \n",
      " 0   Unnamed: 0    689 non-null    int64         \n",
      " 1   Student Name  689 non-null    object        \n",
      " 2   Department    689 non-null    object        \n",
      " 3   Physics       689 non-null    float64       \n",
      " 4   Mathematics   689 non-null    float64       \n",
      " 5   Chemistry     689 non-null    float64       \n",
      " 6   AI            689 non-null    float64       \n",
      " 7   Term Work     689 non-null    int64         \n",
      " 8   DOB           689 non-null    datetime64[ns]\n",
      "dtypes: datetime64[ns](1), float64(4), int64(2), object(2)\n",
      "memory usage: 53.8+ KB\n"
     ]
    }
   ],
   "source": [
    "df.info()\n"
   ]
  },
  {
   "cell_type": "code",
   "execution_count": 53,
   "metadata": {},
   "outputs": [],
   "source": [
    "df['Birth_Year'] = pd.DatetimeIndex(df['DOB']).year   # Used to extract year from datetime65[ns] entity\n",
    "df['Birth_Month'] = df['DOB'].dt.month_name(locale='English')"
   ]
  },
  {
   "cell_type": "code",
   "execution_count": 54,
   "metadata": {},
   "outputs": [
    {
     "data": {
      "text/html": [
       "<div>\n",
       "<style scoped>\n",
       "    .dataframe tbody tr th:only-of-type {\n",
       "        vertical-align: middle;\n",
       "    }\n",
       "\n",
       "    .dataframe tbody tr th {\n",
       "        vertical-align: top;\n",
       "    }\n",
       "\n",
       "    .dataframe thead th {\n",
       "        text-align: right;\n",
       "    }\n",
       "</style>\n",
       "<table border=\"1\" class=\"dataframe\">\n",
       "  <thead>\n",
       "    <tr style=\"text-align: right;\">\n",
       "      <th></th>\n",
       "      <th>Unnamed: 0</th>\n",
       "      <th>Student Name</th>\n",
       "      <th>Department</th>\n",
       "      <th>Physics</th>\n",
       "      <th>Mathematics</th>\n",
       "      <th>Chemistry</th>\n",
       "      <th>AI</th>\n",
       "      <th>Term Work</th>\n",
       "      <th>DOB</th>\n",
       "      <th>Birth_Year</th>\n",
       "      <th>Birth_Month</th>\n",
       "    </tr>\n",
       "  </thead>\n",
       "  <tbody>\n",
       "    <tr>\n",
       "      <th>0</th>\n",
       "      <td>0</td>\n",
       "      <td>Theresa Blue</td>\n",
       "      <td>COMPUTER</td>\n",
       "      <td>62.000000</td>\n",
       "      <td>4.000000</td>\n",
       "      <td>64.1</td>\n",
       "      <td>74.0</td>\n",
       "      <td>8</td>\n",
       "      <td>2003-02-19</td>\n",
       "      <td>2003</td>\n",
       "      <td>February</td>\n",
       "    </tr>\n",
       "    <tr>\n",
       "      <th>3</th>\n",
       "      <td>3</td>\n",
       "      <td>Diane Griffin</td>\n",
       "      <td>ENTC</td>\n",
       "      <td>58.000000</td>\n",
       "      <td>69.000000</td>\n",
       "      <td>53.0</td>\n",
       "      <td>21.6</td>\n",
       "      <td>7</td>\n",
       "      <td>2001-04-05</td>\n",
       "      <td>2001</td>\n",
       "      <td>April</td>\n",
       "    </tr>\n",
       "    <tr>\n",
       "      <th>6</th>\n",
       "      <td>6</td>\n",
       "      <td>Darnell Arredondo</td>\n",
       "      <td>COMPUTER</td>\n",
       "      <td>72.000000</td>\n",
       "      <td>30.000000</td>\n",
       "      <td>20.0</td>\n",
       "      <td>19.1</td>\n",
       "      <td>10</td>\n",
       "      <td>2003-05-14</td>\n",
       "      <td>2003</td>\n",
       "      <td>May</td>\n",
       "    </tr>\n",
       "    <tr>\n",
       "      <th>7</th>\n",
       "      <td>7</td>\n",
       "      <td>Twyla Brown</td>\n",
       "      <td>COMPUTER</td>\n",
       "      <td>47.000000</td>\n",
       "      <td>46.600000</td>\n",
       "      <td>61.6</td>\n",
       "      <td>85.0</td>\n",
       "      <td>9</td>\n",
       "      <td>2003-04-03</td>\n",
       "      <td>2003</td>\n",
       "      <td>April</td>\n",
       "    </tr>\n",
       "    <tr>\n",
       "      <th>8</th>\n",
       "      <td>8</td>\n",
       "      <td>Fernando Lai</td>\n",
       "      <td>COMPUTER</td>\n",
       "      <td>58.491852</td>\n",
       "      <td>4.000000</td>\n",
       "      <td>68.2</td>\n",
       "      <td>33.2</td>\n",
       "      <td>2</td>\n",
       "      <td>2002-03-28</td>\n",
       "      <td>2002</td>\n",
       "      <td>March</td>\n",
       "    </tr>\n",
       "    <tr>\n",
       "      <th>...</th>\n",
       "      <td>...</td>\n",
       "      <td>...</td>\n",
       "      <td>...</td>\n",
       "      <td>...</td>\n",
       "      <td>...</td>\n",
       "      <td>...</td>\n",
       "      <td>...</td>\n",
       "      <td>...</td>\n",
       "      <td>...</td>\n",
       "      <td>...</td>\n",
       "      <td>...</td>\n",
       "    </tr>\n",
       "    <tr>\n",
       "      <th>777</th>\n",
       "      <td>777</td>\n",
       "      <td>Michelle Brown</td>\n",
       "      <td>COMPUTER</td>\n",
       "      <td>58.491852</td>\n",
       "      <td>55.071655</td>\n",
       "      <td>37.0</td>\n",
       "      <td>27.1</td>\n",
       "      <td>3</td>\n",
       "      <td>2002-02-03</td>\n",
       "      <td>2002</td>\n",
       "      <td>February</td>\n",
       "    </tr>\n",
       "    <tr>\n",
       "      <th>779</th>\n",
       "      <td>779</td>\n",
       "      <td>Melinda Haynes</td>\n",
       "      <td>COMPUTER</td>\n",
       "      <td>2.000000</td>\n",
       "      <td>92.000000</td>\n",
       "      <td>42.0</td>\n",
       "      <td>3.8</td>\n",
       "      <td>1</td>\n",
       "      <td>2003-09-03</td>\n",
       "      <td>2003</td>\n",
       "      <td>September</td>\n",
       "    </tr>\n",
       "    <tr>\n",
       "      <th>781</th>\n",
       "      <td>781</td>\n",
       "      <td>Joyce Eck</td>\n",
       "      <td>MECHANICAL</td>\n",
       "      <td>58.491852</td>\n",
       "      <td>92.000000</td>\n",
       "      <td>72.7</td>\n",
       "      <td>48.0</td>\n",
       "      <td>1</td>\n",
       "      <td>2002-03-05</td>\n",
       "      <td>2002</td>\n",
       "      <td>March</td>\n",
       "    </tr>\n",
       "    <tr>\n",
       "      <th>782</th>\n",
       "      <td>782</td>\n",
       "      <td>Travis Spenser</td>\n",
       "      <td>ENTC</td>\n",
       "      <td>85.000000</td>\n",
       "      <td>86.000000</td>\n",
       "      <td>88.0</td>\n",
       "      <td>78.0</td>\n",
       "      <td>6</td>\n",
       "      <td>2002-04-04</td>\n",
       "      <td>2002</td>\n",
       "      <td>April</td>\n",
       "    </tr>\n",
       "    <tr>\n",
       "      <th>783</th>\n",
       "      <td>783</td>\n",
       "      <td>Aurora Miles</td>\n",
       "      <td>MECHANICAL</td>\n",
       "      <td>100.000000</td>\n",
       "      <td>69.000000</td>\n",
       "      <td>46.0</td>\n",
       "      <td>34.3</td>\n",
       "      <td>2</td>\n",
       "      <td>2003-05-22</td>\n",
       "      <td>2003</td>\n",
       "      <td>May</td>\n",
       "    </tr>\n",
       "  </tbody>\n",
       "</table>\n",
       "<p>689 rows × 11 columns</p>\n",
       "</div>"
      ],
      "text/plain": [
       "     Unnamed: 0       Student Name  Department     Physics  Mathematics  \\\n",
       "0             0       Theresa Blue    COMPUTER   62.000000     4.000000   \n",
       "3             3      Diane Griffin        ENTC   58.000000    69.000000   \n",
       "6             6  Darnell Arredondo    COMPUTER   72.000000    30.000000   \n",
       "7             7        Twyla Brown    COMPUTER   47.000000    46.600000   \n",
       "8             8       Fernando Lai    COMPUTER   58.491852     4.000000   \n",
       "..          ...                ...         ...         ...          ...   \n",
       "777         777     Michelle Brown    COMPUTER   58.491852    55.071655   \n",
       "779         779     Melinda Haynes    COMPUTER    2.000000    92.000000   \n",
       "781         781          Joyce Eck  MECHANICAL   58.491852    92.000000   \n",
       "782         782     Travis Spenser        ENTC   85.000000    86.000000   \n",
       "783         783       Aurora Miles  MECHANICAL  100.000000    69.000000   \n",
       "\n",
       "     Chemistry    AI  Term Work        DOB  Birth_Year Birth_Month  \n",
       "0         64.1  74.0          8 2003-02-19        2003    February  \n",
       "3         53.0  21.6          7 2001-04-05        2001       April  \n",
       "6         20.0  19.1         10 2003-05-14        2003         May  \n",
       "7         61.6  85.0          9 2003-04-03        2003       April  \n",
       "8         68.2  33.2          2 2002-03-28        2002       March  \n",
       "..         ...   ...        ...        ...         ...         ...  \n",
       "777       37.0  27.1          3 2002-02-03        2002    February  \n",
       "779       42.0   3.8          1 2003-09-03        2003   September  \n",
       "781       72.7  48.0          1 2002-03-05        2002       March  \n",
       "782       88.0  78.0          6 2002-04-04        2002       April  \n",
       "783       46.0  34.3          2 2003-05-22        2003         May  \n",
       "\n",
       "[689 rows x 11 columns]"
      ]
     },
     "execution_count": 54,
     "metadata": {},
     "output_type": "execute_result"
    }
   ],
   "source": [
    "df\n"
   ]
  }
 ],
 "metadata": {
  "colab": {
   "authorship_tag": "ABX9TyNFANA/PRQK/YGCAyPx0ivd",
   "include_colab_link": true,
   "provenance": []
  },
  "kernelspec": {
   "display_name": "Python 3 (ipykernel)",
   "language": "python",
   "name": "python3"
  },
  "language_info": {
   "codemirror_mode": {
    "name": "ipython",
    "version": 3
   },
   "file_extension": ".py",
   "mimetype": "text/x-python",
   "name": "python",
   "nbconvert_exporter": "python",
   "pygments_lexer": "ipython3",
   "version": "3.12.3"
  }
 },
 "nbformat": 4,
 "nbformat_minor": 4
}
